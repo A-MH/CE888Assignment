{
 "cells": [
  {
   "cell_type": "code",
   "execution_count": 47,
   "metadata": {},
   "outputs": [],
   "source": [
    "import numpy as np\n",
    "import pandas as pd\n",
    "from sklearn.dummy import DummyRegressor\n",
    "from sklearn.metrics import mean_squared_error\n",
    "from sklearn.gaussian_process.kernels import WhiteKernel, RBF, ConstantKernel, Matern\n",
    "from modAL.models import ActiveLearner\n",
    "from sklearn.gaussian_process import GaussianProcessRegressor\n",
    "from sklearn.gaussian_process.kernels import WhiteKernel, RBF, ConstantKernel, Matern\n",
    "from modAL.acquisition import max_EI, max_PI, max_UCB\n",
    "from modAL.models import BayesianOptimizer\n",
    "\n",
    "np.set_printoptions(linewidth=np.inf)\n",
    "np.set_printoptions(precision=2, suppress=True)"
   ]
  },
  {
   "cell_type": "code",
   "execution_count": 48,
   "metadata": {},
   "outputs": [],
   "source": [
    "def GP_regression_std(regressor, X_pool):\n",
    "    _, std = regressor.predict(X_pool, return_std=True)\n",
    "    query_idx = np.argmax(std)\n",
    "#     print(max(std))\n",
    "#     print(min(std))\n",
    "#     print(query_idx)\n",
    "    return query_idx, X_pool[query_idx]"
   ]
  },
  {
   "cell_type": "code",
   "execution_count": 49,
   "metadata": {},
   "outputs": [],
   "source": [
    "from sklearn import preprocessing\n",
    "\n",
    "# import dataset\n",
    "dataset = np.loadtxt(r'airfoil_self_noise.csv', delimiter=',', skiprows=1)\n",
    "np.random.shuffle(dataset)\n",
    "\n",
    "X = dataset[:,:-1]\n",
    "# Create the Scaler object\n",
    "scaler = preprocessing.StandardScaler()\n",
    "# Fit your data on the scaler object\n",
    "X = scaler.fit_transform(X)\n",
    "\n",
    "y = dataset[:,-1].reshape(-1,1)\n",
    "# y = scaler.fit_transform(y)\n",
    "\n",
    "# the dataset is broken as follows: 9% for training, 1% for 10-fold cross validating, 2 person for test set and the\n",
    "# the rest is treated as the pool for active learning\n",
    "n_train = round(0.09 * X.shape[0])\n",
    "n_val = round(0.01 * X.shape[0])\n",
    "n_test = round(0.02 * X.shape[0])\n",
    "\n",
    "X_train = X[:n_train,:]\n",
    "y_train = y[:n_train]\n",
    "\n",
    "X_test = X[n_train : n_train + n_test, :]\n",
    "y_test = y[n_train : n_train + n_test]\n",
    "\n",
    "X_pool = X[n_train + n_test :, :]\n",
    "y_pool = y[n_train + n_test :]"
   ]
  },
  {
   "cell_type": "code",
   "execution_count": 51,
   "metadata": {},
   "outputs": [],
   "source": [
    "# print(X_train[:20])"
   ]
  },
  {
   "cell_type": "code",
   "execution_count": 52,
   "metadata": {},
   "outputs": [
    {
     "name": "stdout",
     "output_type": "stream",
     "text": [
      "***\n",
      "118.62176119597072\n",
      "73.81135775423988\n",
      "***\n",
      "118.62176119597072\n",
      "73.32063448856658\n",
      "***\n",
      "118.62176119597072\n",
      "70.54602298676623\n"
     ]
    }
   ],
   "source": [
    "query_strats = [max_EI, max_PI, max_UCB]\n",
    "\n",
    "for query_strat in query_strats:\n",
    "    X_pool_temp = X_pool\n",
    "    y_pool_temp = y_pool\n",
    "    print('***')\n",
    "#     print(query_strat)\n",
    "    \n",
    "    kernel = RBF(length_scale=1.0, length_scale_bounds=(1e-2, 1e3)) \\\n",
    "         + WhiteKernel(noise_level=1, noise_level_bounds=(1e-10, 1e+1))\n",
    "\n",
    "    regressor = BayesianOptimizer(\n",
    "        estimator=GaussianProcessRegressor(kernel=kernel),\n",
    "        X_training=X_train, y_training=y_train,\n",
    "        query_strategy=query_strat\n",
    "    )\n",
    "\n",
    "    y_pred = regressor.predict(X_test)\n",
    "    print(mean_squared_error(y_test, y_pred))\n",
    "\n",
    "    n_queries = 100\n",
    "    for idx in range(n_queries):\n",
    "        query_idx, query_instance = regressor.query(X_pool_temp)\n",
    "#         print(query_idx)\n",
    "        query_instance = query_instance.reshape(1,-1)\n",
    "        query_label = y[query_idx].reshape(1,-1)\n",
    "        regressor.teach(query_instance, query_label)\n",
    "        X_pool_temp = np.delete(X_pool_temp, query_idx, 0)\n",
    "        y_pool_temp = np.delete(y_pool_temp, query_idx, 0)\n",
    "\n",
    "    y_pred_final = regressor.predict(X_test)\n",
    "    print(mean_squared_error(y_test, y_pred_final))"
   ]
  },
  {
   "cell_type": "code",
   "execution_count": 53,
   "metadata": {},
   "outputs": [
    {
     "name": "stdout",
     "output_type": "stream",
     "text": [
      "118.5902268464111\n",
      "83.89134548973418\n"
     ]
    }
   ],
   "source": [
    "from modAL.models import CommitteeRegressor\n",
    "from sklearn.ensemble import RandomForestRegressor\n",
    "from sklearn.linear_model import BayesianRidge\n",
    "from modAL.disagreement import max_std_sampling\n",
    "\n",
    "  \n",
    "kernel1 = RBF(length_scale=1.0, length_scale_bounds=(1e-2, 1e3)) \\\n",
    "     + WhiteKernel(noise_level=1, noise_level_bounds=(1e-10, 1e+1))\n",
    "regressor1 = ActiveLearner(\n",
    "        estimator=GaussianProcessRegressor(kernel=kernel1),\n",
    "        X_training=X_train, y_training=y_train)\n",
    "kernel2 = RBF(length_scale=1.0, length_scale_bounds=(1e-1, 1e2)) \\\n",
    "     + WhiteKernel(noise_level=2, noise_level_bounds=(1e-10, 1e+1))\n",
    "regressor2 = ActiveLearner(\n",
    "        estimator=GaussianProcessRegressor(kernel=kernel2),\n",
    "        X_training=X_train, y_training=y_train)\n",
    "\n",
    "learner_list = [regressor1, regressor2]\n",
    "\n",
    "# initializing the Committee\n",
    "committee = CommitteeRegressor(\n",
    "    learner_list=learner_list,\n",
    "    query_strategy=max_std_sampling\n",
    ")\n",
    "\n",
    "y_pred = committee.predict(X_test)\n",
    "print(mean_squared_error(y_test, y_pred))\n",
    "\n",
    "# active regression\n",
    "n_queries = 100\n",
    "for idx in range(n_queries):\n",
    "    query_idx, query_instance = committee.query(X_pool)\n",
    "    committee.teach(X_pool[query_idx], y_pool[query_idx].reshape(-1, 1))\n",
    "    X_pool = np.delete(X_pool, query_idx, 0)\n",
    "    y_pool = np.delete(y_pool, query_idx, 0)\n",
    "\n",
    "y_pred_final = committee.predict(X_test)\n",
    "print(mean_squared_error(y_test, y_pred_final))"
   ]
  }
 ],
 "metadata": {
  "kernelspec": {
   "display_name": "Python 3.7.3 32-bit ('venvMeAsh': venv)",
   "language": "python",
   "name": "python37332bitvenvmeashvenvf32b9cf392b64110b880aa932ccdcad1"
  },
  "language_info": {
   "codemirror_mode": {
    "name": "ipython",
    "version": 3
   },
   "file_extension": ".py",
   "mimetype": "text/x-python",
   "name": "python",
   "nbconvert_exporter": "python",
   "pygments_lexer": "ipython3",
   "version": "3.7.3"
  }
 },
 "nbformat": 4,
 "nbformat_minor": 2
}
