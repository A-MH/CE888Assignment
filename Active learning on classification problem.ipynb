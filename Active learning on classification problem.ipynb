{
 "cells": [
  {
   "cell_type": "code",
   "execution_count": 66,
   "metadata": {},
   "outputs": [],
   "source": [
    "import numpy as np\n",
    "import pandas as pd\n",
    "import sys\n",
    "\n",
    "from modAL.models import ActiveLearner\n",
    "from modAL.uncertainty import uncertainty_sampling, margin_sampling, entropy_sampling, classifier_uncertainty\n",
    "\n",
    "from sklearn import preprocessing\n",
    "from sklearn.model_selection import train_test_split\n",
    "from sklearn.ensemble import RandomForestClassifier\n",
    "from sklearn.linear_model import LogisticRegression\n",
    "from sklearn.svm import SVC\n",
    "\n",
    "from IPython import display\n",
    "from matplotlib import pyplot as plt\n",
    "%matplotlib inline\n",
    "\n",
    "import warnings\n",
    "warnings.filterwarnings(\"ignore\")"
   ]
  },
  {
   "cell_type": "code",
   "execution_count": 67,
   "metadata": {},
   "outputs": [],
   "source": [
    "df = pd.read_csv(r'allUsers.lcl.csv')\n",
    "df_trimmed = df.iloc[1:,:11]\n",
    "dataset = df_trimmed.to_numpy()\n",
    "# import dataset\n",
    "np.random.shuffle(dataset)\n",
    "\n",
    "X = dataset[:,2:]\n",
    "# Create the Scaler object\n",
    "scaler = preprocessing.StandardScaler()\n",
    "# Fit your data on the scaler object\n",
    "X = scaler.fit_transform(X)\n",
    "\n",
    "y = dataset[:,0].reshape(-1,1)\n",
    "# y = scaler.fit_transform(y)\n",
    "\n",
    "# the dataset is broken as follows: 9% for training, 1% for 10-fold cross validating, 2 person for test set and the\n",
    "# the rest is treated as the pool for active learning\n",
    "n_train = round(0.005 * X.shape[0])\n",
    "n_val = round(0.01 * X.shape[0])\n",
    "n_test = round(0.01 * X.shape[0])\n",
    "\n",
    "X_train = X[:n_train,:]\n",
    "y_train = y[:n_train]\n",
    "\n",
    "X_test = X[n_train : n_train + n_test, :]\n",
    "y_test = y[n_train : n_train + n_test]\n",
    "\n",
    "X_pool = X[n_train + n_test :, :]\n",
    "y_pool = y[n_train + n_test :]"
   ]
  },
  {
   "cell_type": "code",
   "execution_count": 69,
   "metadata": {},
   "outputs": [
    {
     "name": "stdout",
     "output_type": "stream",
     "text": [
      "***\n",
      "[0.6427656850192062]\n",
      "[0.6939820742637645]\n",
      "***\n",
      "[0.6043533930857875]\n",
      "[0.6901408450704225]\n",
      "***\n",
      "[0.6120358514724712]\n",
      "[0.6734955185659411]\n"
     ]
    }
   ],
   "source": [
    "query_strats = [uncertainty_sampling, margin_sampling, entropy_sampling]\n",
    "\n",
    "for query_strat in query_strats:\n",
    "    X_pool_temp = X_pool\n",
    "    y_pool_temp = y_pool\n",
    "    print('***')\n",
    "    # initialising the activelearner module\n",
    "    learner = ActiveLearner(\n",
    "        estimator=RandomForestClassifier(),\n",
    "        query_strategy=query_strat,\n",
    "        X_training=X_train, y_training=y_train\n",
    "    )\n",
    "\n",
    "    accuracy_score = [learner.score(X_test, y_test)]\n",
    "    print(accuracy_score)\n",
    "\n",
    "\n",
    "    n_queries = 200\n",
    "    for idx in range(n_queries):\n",
    "        query_idx, query_instance = learner.query(X_pool_temp)\n",
    "    #     print(query_idx)\n",
    "        query_instance = query_instance.reshape(1,-1)\n",
    "        query_label = y_pool_temp[query_idx].reshape(1,-1)\n",
    "        learner.teach(query_instance, query_label)\n",
    "        X_pool_temp = np.delete(X_pool_temp, query_idx, 0)\n",
    "        y_pool_temp = np.delete(y_pool_temp, query_idx, 0)\n",
    "\n",
    "\n",
    "    accuracy_score_final = [learner.score(X_test, y_test)]\n",
    "    print(accuracy_score_final)"
   ]
  },
  {
   "cell_type": "code",
   "execution_count": 71,
   "metadata": {
    "scrolled": true
   },
   "outputs": [
    {
     "name": "stdout",
     "output_type": "stream",
     "text": [
      "***\n",
      "<function vote_entropy_sampling at 0x19884300>\n",
      "[0.6414852752880922]\n",
      "[0.6875800256081946]\n",
      "***\n",
      "<function max_disagreement_sampling at 0x19884390>\n",
      "[0.6875800256081946]\n",
      "[0.6991037131882202]\n",
      "***\n",
      "<function consensus_entropy_sampling at 0x19884348>\n",
      "[0.6991037131882202]\n",
      "[0.6837387964148528]\n"
     ]
    }
   ],
   "source": [
    "from modAL.models import Committee\n",
    "from modAL.disagreement import vote_entropy_sampling, max_disagreement_sampling, consensus_entropy_sampling\n",
    "\n",
    "# a list of ActiveLearners:\n",
    "learner1 = ActiveLearner(\n",
    "        estimator=RandomForestClassifier(),\n",
    "        X_training=X_train, y_training=y_train\n",
    "    )\n",
    "\n",
    "learner2 = ActiveLearner(\n",
    "        estimator=LogisticRegression(),\n",
    "        X_training=X_train, y_training=y_train\n",
    "    )\n",
    "\n",
    "learners = [learner1, learner2]\n",
    "\n",
    "query_strats = [vote_entropy_sampling, max_disagreement_sampling, consensus_entropy_sampling]\n",
    "\n",
    "for query_strat in query_strats:\n",
    "    print('***')\n",
    "    print(query_strat)\n",
    "    committee = Committee(\n",
    "        learner_list=learners,\n",
    "        query_strategy=query_strat\n",
    "    )\n",
    "\n",
    "    accuracy_score = [committee.score(X_test, y_test)]\n",
    "    print(accuracy_score)\n",
    "\n",
    "    X_pool_temp = X_pool\n",
    "    y_pool_temp = y_pool\n",
    "\n",
    "    n_queries = 200\n",
    "    for idx in range(n_queries):\n",
    "        query_idx, query_instance = learner.query(X_pool_temp)\n",
    "#         print(query_idx)\n",
    "        query_instance = query_instance.reshape(1,-1)\n",
    "        query_label = y_pool_temp[query_idx].reshape(1,-1)\n",
    "        committee.teach(query_instance, query_label)\n",
    "        X_pool_temp = np.delete(X_pool_temp, query_idx, 0)\n",
    "        y_pool_temp = np.delete(y_pool_temp, query_idx, 0)\n",
    "\n",
    "    accuracy_score_final = [committee.score(X_test, y_test)]\n",
    "    print(accuracy_score_final)"
   ]
  }
 ],
 "metadata": {
  "kernelspec": {
   "display_name": "Python 3.7.3 32-bit ('venvMeAsh': venv)",
   "language": "python",
   "name": "python37332bitvenvmeashvenvf32b9cf392b64110b880aa932ccdcad1"
  },
  "language_info": {
   "codemirror_mode": {
    "name": "ipython",
    "version": 3
   },
   "file_extension": ".py",
   "mimetype": "text/x-python",
   "name": "python",
   "nbconvert_exporter": "python",
   "pygments_lexer": "ipython3",
   "version": "3.7.3"
  }
 },
 "nbformat": 4,
 "nbformat_minor": 2
}
